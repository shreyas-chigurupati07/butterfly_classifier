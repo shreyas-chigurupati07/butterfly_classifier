{
 "cells": [
  {
   "cell_type": "code",
   "execution_count": 1,
   "metadata": {},
   "outputs": [],
   "source": [
    "import os\n"
   ]
  },
  {
   "cell_type": "code",
   "execution_count": 2,
   "metadata": {},
   "outputs": [
    {
     "name": "stdout",
     "output_type": "stream",
     "text": [
      "/Users/shrey/Desktop/github/butterfly_classifier/research\n"
     ]
    }
   ],
   "source": [
    "!pwd"
   ]
  },
  {
   "cell_type": "code",
   "execution_count": 3,
   "metadata": {},
   "outputs": [
    {
     "name": "stdout",
     "output_type": "stream",
     "text": [
      "/Users/shrey/Desktop/github/butterfly_classifier\n"
     ]
    }
   ],
   "source": [
    "os.chdir('../')\n",
    "!pwd"
   ]
  },
  {
   "cell_type": "code",
   "execution_count": 4,
   "metadata": {},
   "outputs": [],
   "source": [
    "from dataclasses import dataclass\n",
    "from pathlib import Path\n",
    "\n",
    "@dataclass(frozen=True)\n",
    "class DataIngestionConfig:\n",
    "    root_dir: Path\n",
    "    source_url: str\n",
    "    local_data_file: Path\n",
    "    unzip_dir: Path\n",
    "    "
   ]
  },
  {
   "cell_type": "code",
   "execution_count": 5,
   "metadata": {},
   "outputs": [],
   "source": [
    "from cnnClassifier.constants import *\n",
    "from cnnClassifier.utils.common import read_yaml, create_dir"
   ]
  },
  {
   "cell_type": "code",
   "execution_count": 6,
   "metadata": {},
   "outputs": [],
   "source": [
    "class ConfigurationManager:\n",
    "    def __init__(self,\n",
    "                 config_file_path = CONFIG_FILE_PATH,\n",
    "                 params_file_path = PARAMS_FILE_PATH):\n",
    "        \n",
    "        self.config = read_yaml(config_file_path)\n",
    "        self.params = read_yaml(params_file_path)\n",
    "\n",
    "        create_dir([self.config.artifacts_root])\n",
    "                 \n",
    "\n",
    "\n",
    "    def get_data_ingestion_config(self) -> DataIngestionConfig:\n",
    "        config = self.config.data_ingestion\n",
    "\n",
    "        create_dir([config.root_dir])\n",
    "\n",
    "        data_ingestion_config = DataIngestionConfig(\n",
    "            root_dir = config.root_dir,\n",
    "            source_url = config.source_url,\n",
    "            local_data_file = config.local_data_file,\n",
    "            unzip_dir = config.unzip_dir\n",
    "        )\n",
    "\n",
    "        return data_ingestion_config"
   ]
  },
  {
   "cell_type": "code",
   "execution_count": 7,
   "metadata": {},
   "outputs": [],
   "source": [
    "import os\n",
    "import boto3\n",
    "import urllib.request as request\n",
    "import zipfile\n",
    "from cnnClassifier import logger\n",
    "from cnnClassifier.utils.common import get_size\n",
    "\n"
   ]
  },
  {
   "cell_type": "code",
   "execution_count": 8,
   "metadata": {},
   "outputs": [],
   "source": [
    "class DataIngestion:\n",
    "    def __init__(self, config: DataIngestionConfig):\n",
    "        self.config = config\n",
    "        self.s3 = boto3.client('s3')\n",
    "    \n",
    "    def download_file(self):\n",
    "        if not os.path.exists(self.config.local_data_file):\n",
    "            s3_url = s3_url = self.config.source_url\n",
    "            logger.info(f'Source URL: {type(s3_url)}, value: {s3_url}')\n",
    "\n",
    "            # Ensure the source_url is a string\n",
    "            if not isinstance(s3_url, str):\n",
    "                raise ValueError(f\"source_url must be a string. Got {type(s3_url)} instead.\")\n",
    "\n",
    "\n",
    "            bucket_name = s3_url.split('/')[2]\n",
    "            object_key = '/'.join(s3_url.split('/')[3:])\n",
    "\n",
    "            logger.info(f\"Downloading file from s3 bucket: {bucket_name}, object_key: {object_key}\")\n",
    "\n",
    "            with open(self.config.local_data_file, 'wb') as f:\n",
    "                self.s3.download_fileobj(bucket_name, object_key, f)\n",
    "            logger.info(f\"File downloaded at: {self.config.local_data_file}\")\n",
    "            # filename, headers = request.urlretrieve(\n",
    "            #     url=self.config.source_url,\n",
    "            #     filename=self.config.local_data_file\n",
    "            # )\n",
    "            # logger.info(f\"{filename} download with following info: \\n{headers}\")\n",
    "        else:\n",
    "            logger.info(f'File already exists of size: {get_size(Path(self.config.local_data_file))}')\n",
    "\n",
    "    def extract_zip_file(self):\n",
    "        \"\"\"\n",
    "        zip_file_path: str\n",
    "        Extracts the zip file to the data dir (unzip_dir)\n",
    "        Function returns None\n",
    "        \"\"\" \n",
    "        unzip_path = self.config.unzip_dir\n",
    "        os.makedirs(unzip_path, exist_ok=True)\n",
    "        with zipfile.ZipFile(self.config.local_data_file, 'r') as zip_ref:\n",
    "            zip_ref.extractall(unzip_path)"
   ]
  },
  {
   "cell_type": "code",
   "execution_count": 9,
   "metadata": {},
   "outputs": [
    {
     "name": "stdout",
     "output_type": "stream",
     "text": [
      "[2025-01-27 14:31:03,008: INFO: common: YAML file loaded successfully: config/config.yaml]\n",
      "[2025-01-27 14:31:03,009: INFO: common: YAML file loaded successfully: params.yaml]\n",
      "[2025-01-27 14:31:03,010: INFO: common: Directory created successfully: artifacts]\n",
      "[2025-01-27 14:31:03,010: INFO: common: Directory created successfully: artifacts/data_ingestion]\n",
      "[2025-01-27 14:31:03,053: INFO: credentials: Found credentials in shared credentials file: ~/.aws/credentials]\n",
      "[2025-01-27 14:31:03,143: INFO: 1154599334: Source URL: <class 'str'>, value: s3://myflydatasetbucket/data.zip]\n",
      "[2025-01-27 14:31:03,143: INFO: 1154599334: Downloading file from s3 bucket: myflydatasetbucket, object_key: data.zip]\n",
      "[2025-01-27 14:31:03,710: INFO: httpchecksum: Skipping checksum validation. Response did not contain one of the following algorithms: ['crc64nvme', 'crc32c', 'crc32', 'sha1', 'sha256'].]\n",
      "[2025-01-27 14:31:03,842: INFO: httpchecksum: Skipping checksum validation. Response did not contain one of the following algorithms: ['crc64nvme', 'crc32c', 'crc32', 'sha1', 'sha256'].]\n",
      "[2025-01-27 14:31:03,880: INFO: httpchecksum: Skipping checksum validation. Response did not contain one of the following algorithms: ['crc64nvme', 'crc32c', 'crc32', 'sha1', 'sha256'].]\n",
      "[2025-01-27 14:31:03,909: INFO: httpchecksum: Skipping checksum validation. Response did not contain one of the following algorithms: ['crc64nvme', 'crc32c', 'crc32', 'sha1', 'sha256'].]\n",
      "[2025-01-27 14:31:03,923: INFO: httpchecksum: Skipping checksum validation. Response did not contain one of the following algorithms: ['crc64nvme', 'crc32c', 'crc32', 'sha1', 'sha256'].]\n",
      "[2025-01-27 14:31:03,927: INFO: httpchecksum: Skipping checksum validation. Response did not contain one of the following algorithms: ['crc64nvme', 'crc32c', 'crc32', 'sha1', 'sha256'].]\n",
      "[2025-01-27 14:31:03,929: INFO: httpchecksum: Skipping checksum validation. Response did not contain one of the following algorithms: ['crc64nvme', 'crc32c', 'crc32', 'sha1', 'sha256'].]\n",
      "[2025-01-27 14:31:03,941: INFO: httpchecksum: Skipping checksum validation. Response did not contain one of the following algorithms: ['crc64nvme', 'crc32c', 'crc32', 'sha1', 'sha256'].]\n",
      "[2025-01-27 14:31:03,972: INFO: httpchecksum: Skipping checksum validation. Response did not contain one of the following algorithms: ['crc64nvme', 'crc32c', 'crc32', 'sha1', 'sha256'].]\n",
      "[2025-01-27 14:31:03,973: INFO: httpchecksum: Skipping checksum validation. Response did not contain one of the following algorithms: ['crc64nvme', 'crc32c', 'crc32', 'sha1', 'sha256'].]\n",
      "[2025-01-27 14:31:05,130: INFO: httpchecksum: Skipping checksum validation. Response did not contain one of the following algorithms: ['crc64nvme', 'crc32c', 'crc32', 'sha1', 'sha256'].]\n",
      "[2025-01-27 14:31:05,540: INFO: httpchecksum: Skipping checksum validation. Response did not contain one of the following algorithms: ['crc64nvme', 'crc32c', 'crc32', 'sha1', 'sha256'].]\n",
      "[2025-01-27 14:31:05,942: INFO: httpchecksum: Skipping checksum validation. Response did not contain one of the following algorithms: ['crc64nvme', 'crc32c', 'crc32', 'sha1', 'sha256'].]\n",
      "[2025-01-27 14:31:06,159: INFO: httpchecksum: Skipping checksum validation. Response did not contain one of the following algorithms: ['crc64nvme', 'crc32c', 'crc32', 'sha1', 'sha256'].]\n",
      "[2025-01-27 14:31:06,379: INFO: httpchecksum: Skipping checksum validation. Response did not contain one of the following algorithms: ['crc64nvme', 'crc32c', 'crc32', 'sha1', 'sha256'].]\n",
      "[2025-01-27 14:31:06,664: INFO: httpchecksum: Skipping checksum validation. Response did not contain one of the following algorithms: ['crc64nvme', 'crc32c', 'crc32', 'sha1', 'sha256'].]\n",
      "[2025-01-27 14:31:06,739: INFO: httpchecksum: Skipping checksum validation. Response did not contain one of the following algorithms: ['crc64nvme', 'crc32c', 'crc32', 'sha1', 'sha256'].]\n",
      "[2025-01-27 14:31:06,847: INFO: httpchecksum: Skipping checksum validation. Response did not contain one of the following algorithms: ['crc64nvme', 'crc32c', 'crc32', 'sha1', 'sha256'].]\n",
      "[2025-01-27 14:31:06,867: INFO: httpchecksum: Skipping checksum validation. Response did not contain one of the following algorithms: ['crc64nvme', 'crc32c', 'crc32', 'sha1', 'sha256'].]\n",
      "[2025-01-27 14:31:07,028: INFO: httpchecksum: Skipping checksum validation. Response did not contain one of the following algorithms: ['crc64nvme', 'crc32c', 'crc32', 'sha1', 'sha256'].]\n",
      "[2025-01-27 14:31:07,544: INFO: httpchecksum: Skipping checksum validation. Response did not contain one of the following algorithms: ['crc64nvme', 'crc32c', 'crc32', 'sha1', 'sha256'].]\n",
      "[2025-01-27 14:31:07,702: INFO: httpchecksum: Skipping checksum validation. Response did not contain one of the following algorithms: ['crc64nvme', 'crc32c', 'crc32', 'sha1', 'sha256'].]\n",
      "[2025-01-27 14:31:07,761: INFO: httpchecksum: Skipping checksum validation. Response did not contain one of the following algorithms: ['crc64nvme', 'crc32c', 'crc32', 'sha1', 'sha256'].]\n",
      "[2025-01-27 14:31:07,827: INFO: httpchecksum: Skipping checksum validation. Response did not contain one of the following algorithms: ['crc64nvme', 'crc32c', 'crc32', 'sha1', 'sha256'].]\n",
      "[2025-01-27 14:31:08,151: INFO: httpchecksum: Skipping checksum validation. Response did not contain one of the following algorithms: ['crc64nvme', 'crc32c', 'crc32', 'sha1', 'sha256'].]\n",
      "[2025-01-27 14:31:08,463: INFO: httpchecksum: Skipping checksum validation. Response did not contain one of the following algorithms: ['crc64nvme', 'crc32c', 'crc32', 'sha1', 'sha256'].]\n",
      "[2025-01-27 14:31:09,021: INFO: httpchecksum: Skipping checksum validation. Response did not contain one of the following algorithms: ['crc64nvme', 'crc32c', 'crc32', 'sha1', 'sha256'].]\n",
      "[2025-01-27 14:31:09,047: INFO: httpchecksum: Skipping checksum validation. Response did not contain one of the following algorithms: ['crc64nvme', 'crc32c', 'crc32', 'sha1', 'sha256'].]\n",
      "[2025-01-27 14:31:09,056: INFO: httpchecksum: Skipping checksum validation. Response did not contain one of the following algorithms: ['crc64nvme', 'crc32c', 'crc32', 'sha1', 'sha256'].]\n",
      "[2025-01-27 14:31:12,032: INFO: 1154599334: File downloaded at: artifacts/data_ingestion/data.zip]\n"
     ]
    }
   ],
   "source": [
    "try:\n",
    "    config = ConfigurationManager()\n",
    "    data_ingestion_config = config.get_data_ingestion_config()\n",
    "    data_ingestion = DataIngestion(config=data_ingestion_config)\n",
    "    data_ingestion.download_file()\n",
    "    data_ingestion.extract_zip_file()\n",
    "except Exception as e:\n",
    "    logger.error(f\"Error in data ingestion: {e}\")\n",
    "    raise e"
   ]
  },
  {
   "cell_type": "code",
   "execution_count": null,
   "metadata": {},
   "outputs": [],
   "source": []
  }
 ],
 "metadata": {
  "kernelspec": {
   "display_name": "flyenv",
   "language": "python",
   "name": "python3"
  },
  "language_info": {
   "codemirror_mode": {
    "name": "ipython",
    "version": 3
   },
   "file_extension": ".py",
   "mimetype": "text/x-python",
   "name": "python",
   "nbconvert_exporter": "python",
   "pygments_lexer": "ipython3",
   "version": "3.9.18"
  }
 },
 "nbformat": 4,
 "nbformat_minor": 2
}
